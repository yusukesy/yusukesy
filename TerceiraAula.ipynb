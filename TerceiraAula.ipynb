{
  "nbformat": 4,
  "nbformat_minor": 0,
  "metadata": {
    "colab": {
      "name": "TerceiraAula.ipynb",
      "provenance": [],
      "authorship_tag": "ABX9TyMBolK5A4TjbCFiULnFtSJY",
      "include_colab_link": true
    },
    "kernelspec": {
      "name": "python3",
      "display_name": "Python 3"
    },
    "language_info": {
      "name": "python"
    }
  },
  "cells": [
    {
      "cell_type": "markdown",
      "metadata": {
        "id": "view-in-github",
        "colab_type": "text"
      },
      "source": [
        "<a href=\"https://colab.research.google.com/github/samuca78/samuca78/blob/main/TerceiraAula.ipynb\" target=\"_parent\"><img src=\"https://colab.research.google.com/assets/colab-badge.svg\" alt=\"Open In Colab\"/></a>"
      ]
    },
    {
      "cell_type": "markdown",
      "metadata": {
        "id": "D5LVQPoH1v8M"
      },
      "source": [
        "# Condicionais\n",
        " \n",
        "Principal forma de atribuir uma lógica ao nosso código.\n",
        " \n",
        "Só executa códigos que corresponderem a condição específicada.\n",
        " \n",
        "Ex:\n",
        " \n",
        "Se estiver quente\n",
        "* Tomar sorvete\n",
        "* Vamos para a praia\n",
        " \n",
        "Se estiver frio\n",
        "* Comer chocolate\n",
        "* Vamos ao cinema\n",
        " \n",
        "Condições:\n",
        "- Igualdade ==\n",
        "- Maior >\n",
        "- Menor <\n",
        "- Maior (ou) Igual >=\n",
        "- Menor (ou) Igual <=\n",
        "- Diferente(não é igual) !="
      ]
    },
    {
      "cell_type": "code",
      "metadata": {
        "colab": {
          "base_uri": "https://localhost:8080/"
        },
        "id": "VSaK-7dc1vBv",
        "outputId": "8f8ff927-9a11-4bb2-ad79-1ceddfc42419"
      },
      "source": [
        "temperatura = \"quente\"\n",
        " \n",
        "if temperatura == \"quente\":\n",
        "  print(\"Vamos tomar sorvete de flocos!\")\n",
        "  print(\"Vamos para a praia\")\n",
        "else:\n",
        "  print(\"Vamos comer chocolate\")\n",
        "  print(\"Vamos ao cinema\")"
      ],
      "execution_count": null,
      "outputs": [
        {
          "output_type": "stream",
          "text": [
            "Vamos tomar sorvete de flocos!\n",
            "Vamos para a praia\n"
          ],
          "name": "stdout"
        }
      ]
    },
    {
      "cell_type": "code",
      "metadata": {
        "colab": {
          "base_uri": "https://localhost:8080/"
        },
        "id": "TC6vszWg1vHk",
        "outputId": "3d92a940-3f66-4da8-8cef-396d48cb2855"
      },
      "source": [
        "temperatura2 = \"frio\"\n",
        " \n",
        "if temperatura2 == \"quente\":\n",
        "  print(\"Vamos tomar sorvete de flocos!\")\n",
        "  print(\"Vamos para a praia\")\n",
        "else:\n",
        "  print(\"Vamos comer chocolate\")\n",
        "  print(\"Vamos ao cinema\")"
      ],
      "execution_count": null,
      "outputs": [
        {
          "output_type": "stream",
          "text": [
            "Vamos comer chocolate\n",
            "Vamos ao cinema\n"
          ],
          "name": "stdout"
        }
      ]
    },
    {
      "cell_type": "code",
      "metadata": {
        "colab": {
          "base_uri": "https://localhost:8080/"
        },
        "id": "0c7bIwfT1vKJ",
        "outputId": "c9bae3c8-6475-4cc3-847b-953d98c4eb99"
      },
      "source": [
        "# Se é um número maior que 20\n",
        "numero = 20\n",
        " \n",
        "if numero > 20:\n",
        "  print(\"É um número muito grande\")\n",
        "else:\n",
        "  print(\"Não é um número grande\")"
      ],
      "execution_count": null,
      "outputs": [
        {
          "output_type": "stream",
          "text": [
            "Não é um número grande\n"
          ],
          "name": "stdout"
        }
      ]
    },
    {
      "cell_type": "code",
      "metadata": {
        "colab": {
          "base_uri": "https://localhost:8080/"
        },
        "id": "fidFRZ-N1vM-",
        "outputId": "2386c333-a66d-43a6-a033-54dccdd651f2"
      },
      "source": [
        " \n",
        "# Se é um número maior ou igual a 20\n",
        "numero2 = 20\n",
        " \n",
        "if numero2 >= 20:\n",
        "  print(\"É um número muito grande\")\n",
        "else:\n",
        "  print(\"Não é um número grande\")"
      ],
      "execution_count": null,
      "outputs": [
        {
          "output_type": "stream",
          "text": [
            "É um número muito grande\n"
          ],
          "name": "stdout"
        }
      ]
    },
    {
      "cell_type": "code",
      "metadata": {
        "colab": {
          "base_uri": "https://localhost:8080/"
        },
        "id": "vp7Obdsl1vPB",
        "outputId": "891e5b9f-64d0-417a-e362-c33fc2aed1ce"
      },
      "source": [
        "# Se é um número menor que 20\n",
        "numero3 = 20\n",
        " \n",
        "if numero3 < 20:\n",
        "  print(\"É um número muito pequeno\")\n",
        "else:\n",
        "  print(\"é um número grande\")"
      ],
      "execution_count": null,
      "outputs": [
        {
          "output_type": "stream",
          "text": [
            "é um número grande\n"
          ],
          "name": "stdout"
        }
      ]
    },
    {
      "cell_type": "code",
      "metadata": {
        "colab": {
          "base_uri": "https://localhost:8080/"
        },
        "id": "0TIhz5UN1vW_",
        "outputId": "3d59313e-aecb-46fb-db42-f09e7a04c39c"
      },
      "source": [
        " \n",
        "# Se é um número menor ou igual a 20\n",
        "numero4 = 20\n",
        " \n",
        "if numero4 <= 20:\n",
        "  print(\"É um número muito pequeno\")\n",
        "else:\n",
        "  print(\"é um número grande\")"
      ],
      "execution_count": null,
      "outputs": [
        {
          "output_type": "stream",
          "text": [
            "É um número muito pequeno\n"
          ],
          "name": "stdout"
        }
      ]
    },
    {
      "cell_type": "code",
      "metadata": {
        "colab": {
          "base_uri": "https://localhost:8080/"
        },
        "id": "4P2xU5BC1vRr",
        "outputId": "2c862c78-514e-4471-a8cd-67e8e3daf492"
      },
      "source": [
        "# !(exclamação) significa não. Então != é \"não é igual\"\n",
        " \n",
        "nome = \"Samuel\"\n",
        " \n",
        "if nome != \"Samuel\":\n",
        "  print(\"Cadê o Samuel?!\")\n",
        "elif nome == \"Samuel\":\n",
        "  print(\"É o Samuel\")"
      ],
      "execution_count": null,
      "outputs": [
        {
          "output_type": "stream",
          "text": [
            "É o Samuel\n"
          ],
          "name": "stdout"
        }
      ]
    },
    {
      "cell_type": "code",
      "metadata": {
        "colab": {
          "base_uri": "https://localhost:8080/"
        },
        "id": "Qgot9Nvu1vUF",
        "outputId": "6282c114-fc0e-4495-a91d-9eb2ac0ba23f"
      },
      "source": [
        "# !(exclamação) significa não. Então != é \"não é igual\"\n",
        " \n",
        "nome2 = \"Paulo\"\n",
        " \n",
        "if nome2 != \"Samuel\":\n",
        "  print(\"Cadê o Samuel?!\")\n",
        "elif nome == \"Samuel\":\n",
        "  print(\"É o Samuel\")"
      ],
      "execution_count": null,
      "outputs": [
        {
          "output_type": "stream",
          "text": [
            "Cadê o Samuel?!\n"
          ],
          "name": "stdout"
        }
      ]
    },
    {
      "cell_type": "code",
      "metadata": {
        "colab": {
          "base_uri": "https://localhost:8080/"
        },
        "id": "x_5XmMpw1vZY",
        "outputId": "c9353d86-c523-4e6a-eca4-a9d485832c75"
      },
      "source": [
        "# 1, 3, 5\n",
        " \n",
        "numero = 5\n",
        " \n",
        "if numero == 1:\n",
        "  print(\"Você ganhou!\")\n",
        "elif numero == 3:\n",
        "  print(\"Você ganhou!\")\n",
        "elif numero == 5:\n",
        "  print(\"Você ganhou!\")\n",
        "else:\n",
        "  print(\"Você perdeu.\")"
      ],
      "execution_count": null,
      "outputs": [
        {
          "output_type": "stream",
          "text": [
            "Você ganhou!\n"
          ],
          "name": "stdout"
        }
      ]
    },
    {
      "cell_type": "code",
      "metadata": {
        "colab": {
          "base_uri": "https://localhost:8080/"
        },
        "id": "2n4MWL4K1ve-",
        "outputId": "ffa0d9de-98cf-4097-d2f7-6159837d43a0"
      },
      "source": [
        "# 1, 3, 5\n",
        " \n",
        "numero1 = 1\n",
        " \n",
        "if numero1 == 1:\n",
        "  print(\"Você ganhou!\")\n",
        "elif numero1 == 3:\n",
        "  print(\"Você ganhou!\")\n",
        "elif numero1 == 5:\n",
        "  print(\"Você ganhou!\")\n",
        "else:\n",
        "  print(\"Você perdeu.\")"
      ],
      "execution_count": null,
      "outputs": [
        {
          "output_type": "stream",
          "text": [
            "Você ganhou!\n"
          ],
          "name": "stdout"
        }
      ]
    },
    {
      "cell_type": "code",
      "metadata": {
        "colab": {
          "base_uri": "https://localhost:8080/"
        },
        "id": "L84O9Npt-v1E",
        "outputId": "79f9fa1c-b3b5-4dc8-c7a7-e2552dd2cee5"
      },
      "source": [
        " # 1, 3, 5\n",
        " \n",
        "numero2 = 3\n",
        " \n",
        "if numero2 == 1:\n",
        "  print(\"Você ganhou!\")\n",
        "elif numero2 == 3:\n",
        "  print(\"Você ganhou!\")\n",
        "elif numero2 == 5:\n",
        "  print(\"Você ganhou!\")\n",
        "else:\n",
        "  print(\"Você perdeu.\")"
      ],
      "execution_count": null,
      "outputs": [
        {
          "output_type": "stream",
          "text": [
            "Você ganhou!\n"
          ],
          "name": "stdout"
        }
      ]
    },
    {
      "cell_type": "code",
      "metadata": {
        "colab": {
          "base_uri": "https://localhost:8080/"
        },
        "id": "07MFofBZ-v7J",
        "outputId": "1e9dcbdb-8877-46cf-88c7-c32edbbcd3a4"
      },
      "source": [
        " # 1, 3, 5\n",
        " \n",
        "numero3 = 7\n",
        " \n",
        "if numero3 == 1:\n",
        "  print(\"Você ganhou!\")\n",
        "elif numero3 == 3:\n",
        "  print(\"Você ganhou!\")\n",
        "elif numero3 == 5:\n",
        "  print(\"Você ganhou!\")\n",
        "else:\n",
        "  print(\"Você perdeu.\")"
      ],
      "execution_count": null,
      "outputs": [
        {
          "output_type": "stream",
          "text": [
            "Você perdeu.\n"
          ],
          "name": "stdout"
        }
      ]
    },
    {
      "cell_type": "code",
      "metadata": {
        "colab": {
          "base_uri": "https://localhost:8080/"
        },
        "id": "7KZ7Kg_d-v9_",
        "outputId": "b422e001-fd6c-45ae-a9c0-7cc133ebd024"
      },
      "source": [
        "# para verificar duas ou mais variaveis coloca o if dentro de um if \n",
        "name = \"Samuel\"\n",
        "sobrenome = \"Sena\"\n",
        " \n",
        "if name == \"Samuel\":\n",
        "  if sobrenome == \"Sena\":\n",
        "    print(\"É o Samuel Sena.\")\n",
        "  else:\n",
        "    print(\"É outro Samuel\")\n",
        "else:\n",
        "  print(\"Não é o Samuel\")"
      ],
      "execution_count": null,
      "outputs": [
        {
          "output_type": "stream",
          "text": [
            "É o Samuel Sena.\n"
          ],
          "name": "stdout"
        }
      ]
    },
    {
      "cell_type": "code",
      "metadata": {
        "colab": {
          "base_uri": "https://localhost:8080/"
        },
        "id": "c3kSpV05-wBf",
        "outputId": "7ab7d845-7c96-4250-afe3-ab7ffd6291fb"
      },
      "source": [
        "# para verificar duas ou mais variaveis coloca o if dentro de um if \n",
        "name1 = \"Samuel\"\n",
        "sobrenome1 = \"Silva\"\n",
        " \n",
        "if name1 == \"Samuel\":\n",
        "  if sobrenome1 == \"Sena\":\n",
        "    print(\"É o Samuel Sena.\")\n",
        "  else:\n",
        "    print(\"É outro Samuel\")\n",
        "else:\n",
        "  print(\"Não é o Samuel\")"
      ],
      "execution_count": null,
      "outputs": [
        {
          "output_type": "stream",
          "text": [
            "É outro Samuel\n"
          ],
          "name": "stdout"
        }
      ]
    },
    {
      "cell_type": "code",
      "metadata": {
        "colab": {
          "base_uri": "https://localhost:8080/"
        },
        "id": "z43J14pu-wED",
        "outputId": "a1fc0da5-861f-493f-9f7c-84934e15e04c"
      },
      "source": [
        "# 1, 3, 5, 7, 9\n",
        " \n",
        "numero4 = 9\n",
        " \n",
        "if numero4 == 1:\n",
        "  print(\"Você ganhou!\")\n",
        "elif numero4 == 3:\n",
        "  print(\"Você ganhou!\")\n",
        "elif numero4 == 5:\n",
        "  print(\"Você ganhou!\")\n",
        "elif numero4 == 7:\n",
        "  print(\"Você ganhou!\")\n",
        "elif numero4 == 9:\n",
        "  print(\"Você ganhou!\")\n",
        "else:\n",
        "  print(\"Você perdeu.\")"
      ],
      "execution_count": null,
      "outputs": [
        {
          "output_type": "stream",
          "text": [
            "Você ganhou!\n"
          ],
          "name": "stdout"
        }
      ]
    },
    {
      "cell_type": "code",
      "metadata": {
        "colab": {
          "base_uri": "https://localhost:8080/"
        },
        "id": "Ho7cgpr1-wJL",
        "outputId": "7f01a170-b7f1-49c2-a076-e3673a9e87dc"
      },
      "source": [
        "# 1, 3, 5, 7, 9\n",
        " \n",
        "numero5 = 8\n",
        " \n",
        "if numero5 == 1:\n",
        "  print(\"Você ganhou!\")\n",
        "elif numero5 == 3:\n",
        "  print(\"Você ganhou!\")\n",
        "elif numero5 == 5:\n",
        "  print(\"Você ganhou!\")\n",
        "elif numero5 == 7:\n",
        "  print(\"Você ganhou!\")\n",
        "elif numero5 == 9:\n",
        "  print(\"Você ganhou!\")\n",
        "else:\n",
        "  print(\"Você perdeu.\")"
      ],
      "execution_count": null,
      "outputs": [
        {
          "output_type": "stream",
          "text": [
            "Você perdeu.\n"
          ],
          "name": "stdout"
        }
      ]
    },
    {
      "cell_type": "code",
      "metadata": {
        "colab": {
          "base_uri": "https://localhost:8080/"
        },
        "id": "5lVQtWzBE4zZ",
        "outputId": "39fe0682-37b7-4264-ff56-08f21ecfe127"
      },
      "source": [
        "# para verificar duas ou mais variaveis coloca o if dentro de um if \n",
        "name2 = \"Samuel\"\n",
        "sobrenome2 = \"Sena\"\n",
        "idade = 13\n",
        " \n",
        "if name2 == \"Samuel\":\n",
        "  if sobrenome2 == \"Sena\":\n",
        "    if idade == 13:\n",
        "      print(\"É o Samuel Sena da ByLearn.\")\n",
        "    else:\n",
        "      print(\"é outro Samuel Sena\")\n",
        "  else:\n",
        "    print(\"É outro Samuel\")\n",
        "else:\n",
        "  print(\"Não é o Samuel\")"
      ],
      "execution_count": null,
      "outputs": [
        {
          "output_type": "stream",
          "text": [
            "É o Samuel Sena da ByLearn.\n"
          ],
          "name": "stdout"
        }
      ]
    },
    {
      "cell_type": "markdown",
      "metadata": {
        "id": "jbBJQN2gHPC1"
      },
      "source": [
        "# Operadores Lógicos\n",
        " \n",
        "Servem para utilizar condições compostas.\n",
        " \n",
        "Uma condição **E**(**AND**) outra condição\n",
        " \n",
        "* Todas devem ser verdadeiras\n",
        " \n",
        "Uma condição **OU**(**OR**) outra condição\n",
        " \n",
        " \n",
        "* Ao menos uma"
      ]
    },
    {
      "cell_type": "code",
      "metadata": {
        "colab": {
          "base_uri": "https://localhost:8080/"
        },
        "id": "0rkSypwgE46-",
        "outputId": "079420ee-9694-420a-ad75-19fe8ef63ec4"
      },
      "source": [
        "# 1, 3, 5, 7 ou 9\n",
        " \n",
        "numero6 = 7\n",
        " \n",
        "if numero6 == 1 or numero6 == 3 or numero6 == 5 or numero6 == 7 or numero6 == 9:\n",
        "  print(\"Você ganhou!\")\n",
        "else:\n",
        "  print(\"Você perdeu!\")"
      ],
      "execution_count": null,
      "outputs": [
        {
          "output_type": "stream",
          "text": [
            "Você ganhou!\n"
          ],
          "name": "stdout"
        }
      ]
    },
    {
      "cell_type": "code",
      "metadata": {
        "colab": {
          "base_uri": "https://localhost:8080/"
        },
        "id": "Hj5Dk1mlE49p",
        "outputId": "41ff9aef-a3d6-4dbd-a3c2-3a6f3a0a7fe0"
      },
      "source": [
        "# para verificar duas ou mais variaveis coloca \"and\" \n",
        "name3 = \"Samuel\"\n",
        "sobrenome3 = \"Sena\"\n",
        "idade1 = 13\n",
        " \n",
        "if name3 == \"Samuel\" and sobrenome3 == \"Sena\" and idade1 == 13:\n",
        "  print(\"É o Samuel Sena da ByLearn\")\n",
        "else:\n",
        "  print(\"É outra pessoa\")"
      ],
      "execution_count": null,
      "outputs": [
        {
          "output_type": "stream",
          "text": [
            "É o Samuel Sena da ByLearn\n"
          ],
          "name": "stdout"
        }
      ]
    },
    {
      "cell_type": "code",
      "metadata": {
        "colab": {
          "base_uri": "https://localhost:8080/"
        },
        "id": "ZYcE5LNoE5AZ",
        "outputId": "b6db4f14-8107-44e8-fb65-a626c960f925"
      },
      "source": [
        "# para verificar duas ou mais variaveis coloca o if dentro de um if \n",
        "name3 = \"Samuel\"\n",
        "sobrenome3 = \"Sena\"\n",
        "idade1 = 14\n",
        " \n",
        "if name3 == \"Samuel\" and sobrenome3 == \"Sena\" and idade1 == 13:\n",
        "  print(\"É o Samuel Sena da ByLearn\")\n",
        "else:\n",
        "  print(\"É outra pessoa\")"
      ],
      "execution_count": null,
      "outputs": [
        {
          "output_type": "stream",
          "text": [
            "É outra pessoa\n"
          ],
          "name": "stdout"
        }
      ]
    },
    {
      "cell_type": "code",
      "metadata": {
        "colab": {
          "base_uri": "https://localhost:8080/"
        },
        "id": "Mbo7cC8mE5D3",
        "outputId": "9d9814cf-be13-4652-e08c-ba3bd15c4f53"
      },
      "source": [
        "# 1, 3 ou 5\n",
        "# nome = Samuel\n",
        " \n",
        "nomee = \"Samuel\"\n",
        "number = 5\n",
        " \n",
        "if nome == \"Samuel\" and (number == 1 or number == 3 or number == 5):\n",
        "  print(\"o Samuel escolheu o número certo\")\n",
        "else:\n",
        "  print(\"Erro!\")"
      ],
      "execution_count": null,
      "outputs": [
        {
          "output_type": "stream",
          "text": [
            "o Samuel escolheu o número certo\n"
          ],
          "name": "stdout"
        }
      ]
    },
    {
      "cell_type": "code",
      "metadata": {
        "colab": {
          "base_uri": "https://localhost:8080/"
        },
        "id": "3-C4_LSyE5Gz",
        "outputId": "4bcb1861-9068-4c88-eace-eba63b45b0a9"
      },
      "source": [
        "numeros_aceitos = [1, 3, 5, 7, 9]\n",
        " \n",
        "numeroo = 7\n",
        " \n",
        "if numeroo in numeros_aceitos:\n",
        "  print(\"Você ganhou!\")\n",
        "else:\n",
        "  print(\"Você perdeu!\")"
      ],
      "execution_count": null,
      "outputs": [
        {
          "output_type": "stream",
          "text": [
            "Você ganhou!\n"
          ],
          "name": "stdout"
        }
      ]
    },
    {
      "cell_type": "code",
      "metadata": {
        "colab": {
          "base_uri": "https://localhost:8080/"
        },
        "id": "BDAG7tAoE5MP",
        "outputId": "be22950b-2d04-4e9f-b058-61bb1e1fcb15"
      },
      "source": [
        "numeros_aceitos1 = [1, 3, 5, 7, 9]\n",
        " \n",
        "numeroo1 = 6\n",
        " \n",
        "if numeroo1 in numeros_aceitos:\n",
        "  print(\"Você ganhou!\")\n",
        "else:\n",
        "  print(\"Você perdeu!\")"
      ],
      "execution_count": null,
      "outputs": [
        {
          "output_type": "stream",
          "text": [
            "Você perdeu!\n"
          ],
          "name": "stdout"
        }
      ]
    },
    {
      "cell_type": "code",
      "metadata": {
        "colab": {
          "base_uri": "https://localhost:8080/"
        },
        "id": "boP6ues9P4t4",
        "outputId": "5ed6c690-102c-493c-e613-5c7299f782b6"
      },
      "source": [
        "# para verificar duas ou mais variaveis coloca o if dentro de um if \n",
        "name4 = \"SamueL\"\n",
        "sobrenome4 = \"SenA\"\n",
        "idade2 = 13\n",
        " \n",
        "if name4.lower() == \"samuel\" and sobrenome4.lower() == \"sena\" and idade2 == 13:\n",
        "  print(\"É o Samuel Sena da ByLearn\")\n",
        "else:\n",
        "  print(\"É outra pessoa\")"
      ],
      "execution_count": null,
      "outputs": [
        {
          "output_type": "stream",
          "text": [
            "É o Samuel Sena da ByLearn\n"
          ],
          "name": "stdout"
        }
      ]
    },
    {
      "cell_type": "markdown",
      "metadata": {
        "id": "SIgw38YJR_ED"
      },
      "source": [
        " # Laços de repetição\n",
        " \n",
        "Forma de evitar a repetição do código, executando uma ação repetidas vezes."
      ]
    },
    {
      "cell_type": "code",
      "metadata": {
        "id": "WVgkwVzbP4xr"
      },
      "source": [
        "# Todos os número até 10 => 0 ... 9\n",
        "# Mínimo é inclusive => Existe\n",
        "# Máximo é exclusivo => Não existe\n",
        "print(0)\n",
        "print(1)\n",
        "print(2)\n",
        "print(3)\n",
        "print(4)\n",
        "print(5)\n",
        "print(6)\n",
        "print(7)\n",
        "print(8)\n",
        "print(9)\n",
        "print(10)"
      ],
      "execution_count": null,
      "outputs": []
    },
    {
      "cell_type": "code",
      "metadata": {
        "colab": {
          "base_uri": "https://localhost:8080/"
        },
        "id": "KZeyZ5chP41U",
        "outputId": "23dc8c10-2f9b-4925-b4ec-61271ace2485"
      },
      "source": [
        "# for variável in sequencia/lista:\n",
        "for numero in range(10):\n",
        "  print(numero)"
      ],
      "execution_count": null,
      "outputs": [
        {
          "output_type": "stream",
          "text": [
            "0\n",
            "1\n",
            "2\n",
            "3\n",
            "4\n",
            "5\n",
            "6\n",
            "7\n",
            "8\n",
            "9\n"
          ],
          "name": "stdout"
        }
      ]
    },
    {
      "cell_type": "code",
      "metadata": {
        "colab": {
          "base_uri": "https://localhost:8080/"
        },
        "id": "2I8BVfK4P44X",
        "outputId": "d5370ab8-6142-4c41-f00a-4b62d1397a67"
      },
      "source": [
        "# for variavel in sequencia:\n",
        " \n",
        "# PARA CADA variavel NA MINHA sequência:\n",
        "    # Executar uma repetição (código) => Iteração\n",
        " \n",
        "# PARA CADA numero NA MINHA sequência de numero até 10:\n",
        "    # mostrar o número\n",
        " \n",
        "for numero in range(10):\n",
        "  print(\"o número atual é:\", numero)"
      ],
      "execution_count": null,
      "outputs": [
        {
          "output_type": "stream",
          "text": [
            "o número atual é: 0\n",
            "o número atual é: 1\n",
            "o número atual é: 2\n",
            "o número atual é: 3\n",
            "o número atual é: 4\n",
            "o número atual é: 5\n",
            "o número atual é: 6\n",
            "o número atual é: 7\n",
            "o número atual é: 8\n",
            "o número atual é: 9\n"
          ],
          "name": "stdout"
        }
      ]
    },
    {
      "cell_type": "code",
      "metadata": {
        "colab": {
          "base_uri": "https://localhost:8080/"
        },
        "id": "Vujj3xm3P4-R",
        "outputId": "e02686d1-4540-4022-fef1-a8d92bfafca2"
      },
      "source": [
        "# 3 ~ [8]\n",
        "for numero in range(3,9):\n",
        "  print(numero)"
      ],
      "execution_count": null,
      "outputs": [
        {
          "output_type": "stream",
          "text": [
            "3\n",
            "4\n",
            "5\n",
            "6\n",
            "7\n",
            "8\n"
          ],
          "name": "stdout"
        }
      ]
    },
    {
      "cell_type": "code",
      "metadata": {
        "colab": {
          "base_uri": "https://localhost:8080/"
        },
        "id": "6HI8k9HsP5CJ",
        "outputId": "adae237c-7102-446d-a4b8-7a1940a12eb2"
      },
      "source": [
        "for numero in range(3,16, 2):\n",
        "  print(numero)"
      ],
      "execution_count": null,
      "outputs": [
        {
          "output_type": "stream",
          "text": [
            "3\n",
            "5\n",
            "7\n",
            "9\n",
            "11\n",
            "13\n",
            "15\n"
          ],
          "name": "stdout"
        }
      ]
    },
    {
      "cell_type": "code",
      "metadata": {
        "id": "nm5_ZQu5d5MZ"
      },
      "source": [
        "resto_divisao = 9 % 2"
      ],
      "execution_count": null,
      "outputs": []
    },
    {
      "cell_type": "code",
      "metadata": {
        "colab": {
          "base_uri": "https://localhost:8080/"
        },
        "id": "YtBcohL3d5QK",
        "outputId": "6b4f5072-b5a9-43bc-a414-bb11a98b5562"
      },
      "source": [
        "resto_divisao"
      ],
      "execution_count": null,
      "outputs": [
        {
          "output_type": "execute_result",
          "data": {
            "text/plain": [
              "1"
            ]
          },
          "metadata": {
            "tags": []
          },
          "execution_count": 126
        }
      ]
    },
    {
      "cell_type": "code",
      "metadata": {
        "colab": {
          "base_uri": "https://localhost:8080/"
        },
        "id": "QUIrkIl-d5UZ",
        "outputId": "61c0f195-0978-482c-d1c6-f0b002f82ee4"
      },
      "source": [
        "for numero in range(1,11):\n",
        "  if numero % 2 == 0:\n",
        "    print(f\"O número {numero} é par!\")\n",
        "  if numero % 2 == 1:\n",
        "    print(f\"O número {numero} é ímpar!\")"
      ],
      "execution_count": null,
      "outputs": [
        {
          "output_type": "stream",
          "text": [
            "O número 1 é ímpar!\n",
            "O número 2 é par!\n",
            "O número 3 é ímpar!\n",
            "O número 4 é par!\n",
            "O número 5 é ímpar!\n",
            "O número 6 é par!\n",
            "O número 7 é ímpar!\n",
            "O número 8 é par!\n",
            "O número 9 é ímpar!\n",
            "O número 10 é par!\n"
          ],
          "name": "stdout"
        }
      ]
    },
    {
      "cell_type": "code",
      "metadata": {
        "colab": {
          "base_uri": "https://localhost:8080/"
        },
        "id": "OyZ5QuQoP5FZ",
        "outputId": "f9cd87c2-e968-48eb-ee25-90ffb3b0f6a3"
      },
      "source": [
        "for numero in range(1,11):\n",
        "  if numero % 2 == 0:\n",
        "    print(f\"O número {numero} é par!\")\n",
        "  else:\n",
        "    print(f\"O número {numero} é ímpar!\")"
      ],
      "execution_count": null,
      "outputs": [
        {
          "output_type": "stream",
          "text": [
            "O número 1 é ímpar!\n",
            "O número 2 é par!\n",
            "O número 3 é ímpar!\n",
            "O número 4 é par!\n",
            "O número 5 é ímpar!\n",
            "O número 6 é par!\n",
            "O número 7 é ímpar!\n",
            "O número 8 é par!\n",
            "O número 9 é ímpar!\n",
            "O número 10 é par!\n"
          ],
          "name": "stdout"
        }
      ]
    },
    {
      "cell_type": "code",
      "metadata": {
        "colab": {
          "base_uri": "https://localhost:8080/"
        },
        "id": "kpbaIK1HP4mn",
        "outputId": "397a8720-4c5e-4650-fba9-a653c8017fbd"
      },
      "source": [
        "notas = [10, 8]\n",
        " \n",
        "soma = 0\n",
        " \n",
        "for nota in notas:\n",
        "  soma = soma + nota\n",
        " \n",
        "print(\"A soma vale\", soma)\n",
        " \n",
        "media = soma / 2\n",
        " \n",
        "print(\"A média é\", media)"
      ],
      "execution_count": null,
      "outputs": [
        {
          "output_type": "stream",
          "text": [
            "A soma vale 18\n",
            "A média é 9.0\n"
          ],
          "name": "stdout"
        }
      ]
    },
    {
      "cell_type": "code",
      "metadata": {
        "colab": {
          "base_uri": "https://localhost:8080/"
        },
        "id": "osUiZVgPP4fe",
        "outputId": "231faeca-e54b-42a1-978a-0806bfce5cab"
      },
      "source": [
        "notas2 = [10, 8, 9, 7, 5]\n",
        " \n",
        "soma2 = 0\n",
        " \n",
        "for nota in notas2:\n",
        "  soma2 = soma2 + nota\n",
        " \n",
        "print(\"A soma vale\", soma2)\n",
        " \n",
        "media2 = soma2 / 5\n",
        " \n",
        "print(\"A média é\", media2)"
      ],
      "execution_count": null,
      "outputs": [
        {
          "output_type": "stream",
          "text": [
            "A soma vale 39\n",
            "A média é 7.8\n"
          ],
          "name": "stdout"
        }
      ]
    },
    {
      "cell_type": "code",
      "metadata": {
        "colab": {
          "base_uri": "https://localhost:8080/"
        },
        "id": "toqjWtKCkBlU",
        "outputId": "4604bee7-a3b7-4f22-80fb-f94b5123ec73"
      },
      "source": [
        "notas3 = [10, 8, 9]\n",
        " \n",
        "soma3 = 0\n",
        " \n",
        "for nota in notas3:\n",
        "  soma3 = soma3 + nota\n",
        " \n",
        "print(\"A soma vale\", soma3)\n",
        " \n",
        "media3 = soma3 / 3\n",
        " \n",
        "print(\"A média é\", media3)"
      ],
      "execution_count": null,
      "outputs": [
        {
          "output_type": "stream",
          "text": [
            "A soma vale 27\n",
            "A média é 9.0\n"
          ],
          "name": "stdout"
        }
      ]
    },
    {
      "cell_type": "code",
      "metadata": {
        "colab": {
          "base_uri": "https://localhost:8080/"
        },
        "id": "26Y8dK3UlIWN",
        "outputId": "374b1714-afe2-496d-f8b5-40b7cc2ebd0a"
      },
      "source": [
        "notas4 = [10, 8, 9, 7, 5]\n",
        " \n",
        "quantidade = len(notas4) \n",
        "print(\"Quantidade de notas\", quantidade)\n",
        " \n",
        "soma4 = 0\n",
        " \n",
        "for nota in notas4:\n",
        "  soma4 = soma4 + nota\n",
        " \n",
        "print(\"A soma vale\", soma4)\n",
        " \n",
        "media4 = soma4 / quantidade\n",
        " \n",
        "print(\"A média é\", media4)"
      ],
      "execution_count": null,
      "outputs": [
        {
          "output_type": "stream",
          "text": [
            "Quantidade de notas 5\n",
            "A soma vale 39\n",
            "A média é 7.8\n"
          ],
          "name": "stdout"
        }
      ]
    },
    {
      "cell_type": "code",
      "metadata": {
        "colab": {
          "base_uri": "https://localhost:8080/"
        },
        "id": "phAAlOZTlIZm",
        "outputId": "fd2ca601-a923-42a4-9510-3fbb79cafcb0"
      },
      "source": [
        "notas5 = [10, 8, 9]\n",
        " \n",
        "quantidade = len(notas5) \n",
        "print(\"Quantidade de notas\", quantidade)\n",
        " \n",
        "soma5 = sum(notas5)\n",
        "print(\"A soma vale\", soma5)\n",
        " \n",
        "media5 = soma5 / quantidade\n",
        "print(\"A média é\", media5)"
      ],
      "execution_count": null,
      "outputs": [
        {
          "output_type": "stream",
          "text": [
            "Quantidade de notas 3\n",
            "A soma vale 27\n",
            "A média é 9.0\n"
          ],
          "name": "stdout"
        }
      ]
    },
    {
      "cell_type": "code",
      "metadata": {
        "colab": {
          "base_uri": "https://localhost:8080/"
        },
        "id": "8HwrCeY9lIc0",
        "outputId": "32177e4e-ccfa-44df-eddf-50291cc6e033"
      },
      "source": [
        "notas6 = [10, 8, 9]\n",
        " \n",
        "quantidade = len(notas6)\n",
        "soma6 = sum(notas6)\n",
        "media6 = soma6 / quantidade\n",
        " \n",
        "print(\"A média é\", media6)"
      ],
      "execution_count": null,
      "outputs": [
        {
          "output_type": "stream",
          "text": [
            "A média é 9.0\n"
          ],
          "name": "stdout"
        }
      ]
    },
    {
      "cell_type": "code",
      "metadata": {
        "colab": {
          "base_uri": "https://localhost:8080/"
        },
        "id": "jEADjRVVlIEj",
        "outputId": "6017302c-eac8-49c2-d2f4-32a8868f3c8e"
      },
      "source": [
        " \n",
        "def calcular_media(notas):\n",
        "  quantidade = len(notas)\n",
        "  soma = sum(notas)\n",
        "  media = soma / quantidade\n",
        "  return media\n",
        " \n",
        "def verificar_aprovacao(media):\n",
        "  if media >= 6:\n",
        "    print(\"Aluno Aprovado! :)\")\n",
        "  else:\n",
        "    print(\"Aluno Reprovado! :(\")\n",
        " \n",
        "samuel = [10, 9, 8, 7]\n",
        "media = calcular_media(samuel)\n",
        "print(\"Aluno tirou\", media)\n",
        "verificar_aprovacao(media)"
      ],
      "execution_count": null,
      "outputs": [
        {
          "output_type": "stream",
          "text": [
            "Aluno tirou 8.5\n",
            "Aluno Aprovado! :)\n"
          ],
          "name": "stdout"
        }
      ]
    },
    {
      "cell_type": "code",
      "metadata": {
        "colab": {
          "base_uri": "https://localhost:8080/"
        },
        "id": "Sf9uLOWjlIJ6",
        "outputId": "a471988b-1b68-4cf6-aa1f-ce0c5d4da7d5"
      },
      "source": [
        "paulo = [10, 9, 8, 9]\n",
        "media = calcular_media(paulo)\n",
        "print(\"Aluno tirou\", media)\n",
        "verificar_aprovacao(media)"
      ],
      "execution_count": null,
      "outputs": [
        {
          "output_type": "stream",
          "text": [
            "Aluno tirou 9.0\n",
            "Aluno Aprovado! :)\n"
          ],
          "name": "stdout"
        }
      ]
    },
    {
      "cell_type": "code",
      "metadata": {
        "colab": {
          "base_uri": "https://localhost:8080/"
        },
        "id": "r1peBGLIlIN0",
        "outputId": "1eaa84f8-2ce2-4009-af9f-241bc51fb8f5"
      },
      "source": [
        " fabi = [6, 4, 8, 7]\n",
        "media = calcular_media(fabi)\n",
        "print(\"Aluno tirou\", media)\n",
        "verificar_aprovacao(media)"
      ],
      "execution_count": null,
      "outputs": [
        {
          "output_type": "stream",
          "text": [
            "Aluno tirou 6.25\n",
            "Aluno Aprovado! :)\n"
          ],
          "name": "stdout"
        }
      ]
    },
    {
      "cell_type": "code",
      "metadata": {
        "colab": {
          "base_uri": "https://localhost:8080/"
        },
        "id": "vtUIl9mjuWlF",
        "outputId": "6ab10a21-956a-4a7e-a868-9b26610f6c55"
      },
      "source": [
        " \n",
        "def calcular_media(notas):\n",
        "  quantidade = len(notas)\n",
        "  soma = sum(notas)\n",
        "  media = soma / quantidade\n",
        "  print(\"o aluno tirou\", media)\n",
        "  verificar_aprovacao(media)\n",
        " \n",
        "def verificar_aprovacao(media):\n",
        "  if media >= 6:\n",
        "    print(\"Aluno Aprovado! :)\")\n",
        "  else:\n",
        "    print(\"Aluno Reprovado! :(\")\n",
        " \n",
        "samuel = [10, 9, 8, 7]\n",
        "media = calcular_media(samuel)"
      ],
      "execution_count": null,
      "outputs": [
        {
          "output_type": "stream",
          "text": [
            "o aluno tirou 8.5\n",
            "Aluno Aprovado! :)\n"
          ],
          "name": "stdout"
        }
      ]
    },
    {
      "cell_type": "code",
      "metadata": {
        "colab": {
          "base_uri": "https://localhost:8080/"
        },
        "id": "peYWYZ8HuuuI",
        "outputId": "04aea299-a9f6-4d34-ab01-5f5402025cc4"
      },
      "source": [
        "samuel = [10, 9, 8, 7]\n",
        "media = calcular_media(samuel)"
      ],
      "execution_count": null,
      "outputs": [
        {
          "output_type": "stream",
          "text": [
            "o aluno tirou 8.5\n",
            "Aluno Aprovado! :)\n"
          ],
          "name": "stdout"
        }
      ]
    },
    {
      "cell_type": "code",
      "metadata": {
        "colab": {
          "base_uri": "https://localhost:8080/"
        },
        "id": "SgluBDDOvVi-",
        "outputId": "476a5b40-cc7e-47b1-809e-9fb76bf01d24"
      },
      "source": [
        "def numero_quadrado(numero):\n",
        "  quadrado = numero * numero\n",
        "  return quadrado\n",
        " \n",
        "def imc(peso, altura):\n",
        "  altura_quadrado = numero_quadrado(altura)\n",
        "  meu_imc = peso / altura_quadrado\n",
        "  return meu_imc\n",
        " \n",
        " \n",
        "meu_imc = imc(56, 1.61)\n",
        "print(f\"o meu imc é {meu_imc:.2f}\")"
      ],
      "execution_count": null,
      "outputs": [
        {
          "output_type": "stream",
          "text": [
            "o meu imc é 21.60\n"
          ],
          "name": "stdout"
        }
      ]
    },
    {
      "cell_type": "code",
      "metadata": {
        "colab": {
          "base_uri": "https://localhost:8080/"
        },
        "id": "zh6K4omevVo-",
        "outputId": "cc587a1d-39d1-4e50-ff03-e2f8db82e5ac"
      },
      "source": [
        " \n",
        "def imc(peso, altura):\n",
        "  altura_quadrado = numero_quadrado(altura)\n",
        "  meu_imc = peso / altura ** 2\n",
        "  print(f\"o meu imc é {meu_imc:.2f}\")\n",
        "  return meu_imc\n",
        " \n",
        " \n",
        "meu_imc = imc(56, 1.61)"
      ],
      "execution_count": null,
      "outputs": [
        {
          "output_type": "stream",
          "text": [
            "o meu imc é 21.60\n"
          ],
          "name": "stdout"
        }
      ]
    },
    {
      "cell_type": "code",
      "metadata": {
        "colab": {
          "base_uri": "https://localhost:8080/"
        },
        "id": "VzQYKWYFvVt2",
        "outputId": "71ac2ed7-38af-4616-97dd-92122f2290f6"
      },
      "source": [
        "imc_katia = imc(70, 1.70)"
      ],
      "execution_count": null,
      "outputs": [
        {
          "output_type": "stream",
          "text": [
            "o meu imc é 24.22\n"
          ],
          "name": "stdout"
        }
      ]
    }
  ]
}